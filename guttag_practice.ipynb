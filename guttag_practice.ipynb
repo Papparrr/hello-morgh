x=14
y=2
print(x*y)
